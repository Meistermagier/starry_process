{
 "cells": [
  {
   "cell_type": "code",
   "execution_count": 1,
   "metadata": {},
   "outputs": [],
   "source": [
    "%matplotlib inline"
   ]
  },
  {
   "cell_type": "code",
   "execution_count": 2,
   "metadata": {},
   "outputs": [],
   "source": [
    "%run ~/src/starry/notebooks/notebook_setup.py"
   ]
  },
  {
   "cell_type": "code",
   "execution_count": 3,
   "metadata": {},
   "outputs": [],
   "source": [
    "import matplotlib.pyplot as plt\n",
    "import numpy as np\n",
    "import starry\n",
    "from tqdm.notebook import tqdm\n",
    "import theano\n",
    "import theano.tensor as tt\n",
    "from theano.tensor.shared_randomstreams import RandomStreams\n",
    "from scipy.linalg import cho_factor, cho_solve\n",
    "\n",
    "starry.config.lazy = False\n",
    "starry.config.quiet = True"
   ]
  },
  {
   "cell_type": "code",
   "execution_count": 36,
   "metadata": {},
   "outputs": [],
   "source": [
    "# Params\n",
    "ydeg = 10\n",
    "nspots = 10\n",
    "npoints = 200\n",
    "inc = 60\n",
    "p = 0.237\n",
    "sigma = 0.01\n",
    "amp = -0.001\n",
    "mu_lat1 = 0\n",
    "std_lat1 = 2.5\n",
    "mu_lat2 = 60\n",
    "std_lat2 = 2.5"
   ]
  },
  {
   "cell_type": "code",
   "execution_count": 37,
   "metadata": {},
   "outputs": [
    {
     "name": "stderr",
     "output_type": "stream",
     "text": [
      "INFO (theano.gof.compilelock): Refreshing lock /Users/rluger/.theano/compiledir_Darwin-19.6.0-x86_64-i386-64bit-i386-3.7.4-64/lock_dir/lock\n"
     ]
    }
   ],
   "source": [
    "# Setup\n",
    "np.random.seed(0)\n",
    "map = starry.Map(ydeg, lazy=True)\n",
    "t = np.linspace(0, 1, npoints)\n",
    "_A = map.design_matrix(theta=360 / p * t)\n",
    "A = _A.eval()\n",
    "trand = RandomStreams(seed=234)"
   ]
  },
  {
   "cell_type": "code",
   "execution_count": null,
   "metadata": {},
   "outputs": [
    {
     "data": {
      "application/vnd.jupyter.widget-view+json": {
       "model_id": "9de0aa996f77463e84051fe04a910ff0",
       "version_major": 2,
       "version_minor": 0
      },
      "text/plain": [
       "HBox(children=(IntProgress(value=0, max=200), HTML(value='')))"
      ]
     },
     "metadata": {},
     "output_type": "display_data"
    },
    {
     "name": "stdout",
     "output_type": "stream",
     "text": [
      "\n"
     ]
    }
   ],
   "source": [
    "# Compile our forward model\n",
    "lon = trand.uniform([nspots]) * 360\n",
    "lat1 = mu_lat1 + std_lat1 * trand.normal([nspots])\n",
    "lat2 = mu_lat2 + std_lat2 * trand.normal([nspots])\n",
    "lat = tt.switch(trand.uniform([nspots]) < 0.5, lat1, lat2)\n",
    "\n",
    "def _draw_flux(alpha):\n",
    "    y = [None for k in range(npoints)]\n",
    "    for k, tk in tqdm(enumerate(t), total=npoints):\n",
    "        map.reset(inc=inc)\n",
    "        for i in range(nspots):\n",
    "            map.add_spot(\n",
    "                lon=lon[i] - 360.0 / p * alpha * tk * tt.sin(lat[i] * np.pi / 180) ** 2,\n",
    "                lat=lat[i],\n",
    "                amp=amp,\n",
    "                sigma=sigma,\n",
    "                relative=False,\n",
    "            )\n",
    "        y[k] = map.amp * map.y\n",
    "    return tt.diag(tt.dot(_A, tt.as_tensor_variable(y).T))\n",
    "\n",
    "_alpha = tt.dscalar()\n",
    "draw_flux = theano.function([_alpha], _draw_flux(_alpha))"
   ]
  },
  {
   "cell_type": "code",
   "execution_count": null,
   "metadata": {},
   "outputs": [],
   "source": [
    "# Compute empirical mean and covariance of the process\n",
    "alpha = 0.25\n",
    "nlc = 10000\n",
    "flux = np.empty((nlc, npoints))\n",
    "\n",
    "for k in tqdm(range(nlc)):\n",
    "    flux[k] = draw_flux(alpha)\n",
    "    \n",
    "mu = np.mean(flux, axis=0)\n",
    "L = np.cov(flux.T)\n",
    "cho_L = cho_factor(L + 1e-12 * np.eye(npoints), lower=True)[0]"
   ]
  },
  {
   "cell_type": "code",
   "execution_count": null,
   "metadata": {},
   "outputs": [],
   "source": [
    "# Draw light curves w/ different alpha\n",
    "alpha = np.linspace(0.01, 0.5, 250)\n",
    "ferr = 1e-4\n",
    "flux = [draw_flux(a) + ferr * np.random.randn(npoints) for a in alpha]"
   ]
  },
  {
   "cell_type": "code",
   "execution_count": null,
   "metadata": {},
   "outputs": [],
   "source": [
    "# Compute the likelihood for each given GP(alpha=0.25)\n",
    "# Should peak at alpha = 0.25!\n",
    "lnlike = [starry.linalg.lnlike(np.eye(npoints), flux[k], C=ferr ** 2, cho_L=cho_L, mu=mu) for k in range(250)]"
   ]
  },
  {
   "cell_type": "code",
   "execution_count": null,
   "metadata": {},
   "outputs": [],
   "source": [
    "# Super noisy, but yes!\n",
    "plt.plot(alpha, (lnlike - np.max(lnlike)));\n",
    "plt.ylim(-150, 0);"
   ]
  },
  {
   "cell_type": "code",
   "execution_count": null,
   "metadata": {},
   "outputs": [],
   "source": [
    "plt.imshow(L)"
   ]
  },
  {
   "cell_type": "code",
   "execution_count": null,
   "metadata": {},
   "outputs": [],
   "source": [
    "k = L[:, 0]\n",
    "plt.axhline(0, color=\"k\", lw=1, alpha=0.5, ls=\"--\")\n",
    "for t in [0, 1, 2]:\n",
    "    plt.axvline(t, color=\"k\", lw=1, alpha=0.5, ls=\"--\")\n",
    "plt.plot(np.linspace(0, 1/p, 200), k / k.max());\n",
    "plt.xlabel(\"periods\")\n",
    "plt.ylabel(\"covariance\");"
   ]
  },
  {
   "cell_type": "code",
   "execution_count": null,
   "metadata": {},
   "outputs": [],
   "source": []
  }
 ],
 "metadata": {
  "kernelspec": {
   "display_name": "Python 3",
   "language": "python",
   "name": "python3"
  },
  "language_info": {
   "codemirror_mode": {
    "name": "ipython",
    "version": 3
   },
   "file_extension": ".py",
   "mimetype": "text/x-python",
   "name": "python",
   "nbconvert_exporter": "python",
   "pygments_lexer": "ipython3",
   "version": "3.7.4"
  }
 },
 "nbformat": 4,
 "nbformat_minor": 2
}
