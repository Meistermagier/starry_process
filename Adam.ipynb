{
 "cells": [
  {
   "cell_type": "code",
   "execution_count": 114,
   "metadata": {},
   "outputs": [],
   "source": [
    "import numpy as np\n",
    "import matplotlib.pyplot as plt"
   ]
  },
  {
   "cell_type": "code",
   "execution_count": 7,
   "metadata": {},
   "outputs": [],
   "source": [
    "from ensemble.generate import generate\n",
    "import starry\n",
    "from starry_process import StarryProcess\n",
    "import theano\n",
    "import theano.tensor as tt\n",
    "import os\n",
    "from tqdm.notebook import tqdm"
   ]
  },
  {
   "cell_type": "code",
   "execution_count": 9,
   "metadata": {},
   "outputs": [
    {
     "name": "stderr",
     "output_type": "stream",
     "text": [
      "Pre-computing some matrices... Done.\n",
      "  0%|          | 0/10 [00:00<?, ?it/s]Compiling `flux`... Done.\n",
      "Compiling `render`... Done.\n",
      "100%|██████████| 10/10 [00:33<00:00,  3.36s/it]\n",
      "100%|██████████| 10/10 [00:00<00:00, 4357.72it/s]\n"
     ]
    }
   ],
   "source": [
    "runid = 1\n",
    "PATH = \"ensemble\"\n",
    "DATA_FILE = os.path.join(PATH, \"{:02d}\".format(runid), \"data.npz\")\n",
    "TRUTH_FILE = os.path.join(PATH, \"{:02d}\".format(runid), \"truth.npz\")\n",
    "data, truth = generate(runid)\n",
    "t = data[\"t\"]\n",
    "flux = data[\"flux\"]\n",
    "ferr = data[\"ferr\"]\n",
    "nlc = len(flux)\n",
    "baseline_var = 1e-2"
   ]
  },
  {
   "cell_type": "code",
   "execution_count": 101,
   "metadata": {},
   "outputs": [
    {
     "name": "stderr",
     "output_type": "stream",
     "text": [
      "INFO (theano.gof.compilelock): Refreshing lock /Users/rluger/.theano/compiledir_Darwin-19.6.0-x86_64-i386-64bit-i386-3.7.4-64/lock_dir/lock\n",
      "INFO (theano.gof.compilelock): Refreshing lock /Users/rluger/.theano/compiledir_Darwin-19.6.0-x86_64-i386-64bit-i386-3.7.4-64/lock_dir/lock\n"
     ]
    },
    {
     "data": {
      "application/vnd.jupyter.widget-view+json": {
       "model_id": "8abddddb914a4fdcb1c1f15fcba5eeb1",
       "version_major": 2,
       "version_minor": 0
      },
      "text/plain": [
       "HBox(children=(IntProgress(value=0, max=5000), HTML(value='')))"
      ]
     },
     "metadata": {},
     "output_type": "display_data"
    },
    {
     "name": "stdout",
     "output_type": "stream",
     "text": [
      "\n"
     ]
    }
   ],
   "source": [
    "# Settings\n",
    "niter = 5000\n",
    "kwargs = dict(lr=1e-2)\n",
    "\n",
    "# Guesses\n",
    "s0 = 25.0\n",
    "la0 = 0.5\n",
    "lb0 = 0.5\n",
    "c0 = 0.5\n",
    "N0 = 10.0\n",
    "incs0 = 60.0 * np.ones(nlc)\n",
    "\n",
    "\n",
    "# Vars\n",
    "s = theano.shared(s0)\n",
    "la = theano.shared(la0)\n",
    "lb = theano.shared(lb0)\n",
    "c = theano.shared(c0)\n",
    "N = theano.shared(N0)\n",
    "incs = theano.shared(incs0)\n",
    "theano_vars = [s, la, lb, c, N, incs]\n",
    "\n",
    "# True loss\n",
    "true_loss = -77284.93290496\n",
    "\n",
    "# Compute the loss\n",
    "sp = StarryProcess(size=s, latitude=[la, lb], contrast=[c, N])\n",
    "log_like = []\n",
    "for k in range(nlc):\n",
    "    log_like.append(\n",
    "        sp.log_likelihood(\n",
    "            t,\n",
    "            flux[k],\n",
    "            ferr ** 2,\n",
    "            baseline_var=baseline_var,\n",
    "            period=truth[\"periods\"][k],\n",
    "            inc=incs[k],\n",
    "        )\n",
    "    )\n",
    "loss = -(\n",
    "    tt.sum(log_like)\n",
    "    + tt.sum(tt.log(tt.sin(incs * np.pi / 180)))\n",
    "    + sp.log_jac()\n",
    ")\n",
    "\n",
    "\n",
    "# Adam optimizer\n",
    "upd = NAdam(loss, theano_vars, **kwargs)\n",
    "train = theano.function([], theano_vars + [loss], updates=upd)\n",
    "loss_val = np.zeros(niter)\n",
    "best_loss = np.inf\n",
    "best_params = []\n",
    "iterator = tqdm(np.arange(niter))\n",
    "for n in iterator:\n",
    "    *params, loss_val[n] = train()\n",
    "    iterator.set_postfix({\"loss\": \"{:.1f}\".format(best_loss)})\n",
    "    if loss_val[n] < best_loss:\n",
    "        best_loss = loss_val[n]\n",
    "        best_params = params"
   ]
  },
  {
   "cell_type": "code",
   "execution_count": 102,
   "metadata": {},
   "outputs": [
    {
     "data": {
      "text/plain": [
       "[<matplotlib.lines.Line2D at 0x7fba4d5dd510>]"
      ]
     },
     "execution_count": 102,
     "metadata": {},
     "output_type": "execute_result"
    },
    {
     "data": {
      "image/png": "[encoded data removed]",
      "text/plain": [
       "<Figure size 432x288 with 1 Axes>"
      ]
     },
     "metadata": {
      "needs_background": "light"
     },
     "output_type": "display_data"
    }
   ],
   "source": [
    "plt.plot(loss_val)"
   ]
  },
  {
   "cell_type": "code",
   "execution_count": 103,
   "metadata": {},
   "outputs": [
    {
     "name": "stderr",
     "output_type": "stream",
     "text": [
      "INFO (theano.gof.compilelock): Refreshing lock /Users/rluger/.theano/compiledir_Darwin-19.6.0-x86_64-i386-64bit-i386-3.7.4-64/lock_dir/lock\n"
     ]
    },
    {
     "data": {
      "text/plain": [
       "[<matplotlib.lines.Line2D at 0x7fba345fcc10>]"
      ]
     },
     "execution_count": 103,
     "metadata": {},
     "output_type": "execute_result"
    },
    {
     "data": {
      "image/png": "[encoded data removed]",
      "text/plain": [
       "<Figure size 432x288 with 1 Axes>"
      ]
     },
     "metadata": {
      "needs_background": "light"
     },
     "output_type": "display_data"
    }
   ],
   "source": [
    "x = np.linspace(-89, 89, 300)\n",
    "pdf = StarryProcess(latitude=[la.get_value(), lb.get_value()]).latitude.pdf(x).eval()\n",
    "pdf_true = StarryProcess(latitude=[truth[\"la\"], truth[\"lb\"]]).latitude.pdf(x).eval()\n",
    "plt.plot(x, pdf)\n",
    "plt.plot(x, pdf_true)"
   ]
  },
  {
   "cell_type": "code",
   "execution_count": 104,
   "metadata": {},
   "outputs": [
    {
     "data": {
      "text/plain": [
       "array([65.23740205, 41.18994859, 78.77521135, 70.55534195, 73.35384234,\n",
       "       83.26612133, 81.25056784, 66.12506569, 65.89061464, 57.16092408])"
      ]
     },
     "execution_count": 104,
     "metadata": {},
     "output_type": "execute_result"
    }
   ],
   "source": [
    "best_params[5]"
   ]
  },
  {
   "cell_type": "code",
   "execution_count": 105,
   "metadata": {},
   "outputs": [
    {
     "data": {
      "text/plain": [
       "array([65.35328356, 43.91872228, 89.99344681, 72.40224316, 81.56102781,\n",
       "       84.70184091, 79.26538567, 69.78397162, 66.62374742, 57.39687492])"
      ]
     },
     "execution_count": 105,
     "metadata": {},
     "output_type": "execute_result"
    }
   ],
   "source": [
    "truth[\"incs\"]"
   ]
  },
  {
   "cell_type": "code",
   "execution_count": 109,
   "metadata": {},
   "outputs": [
    {
     "data": {
      "text/plain": [
       "[<matplotlib.lines.Line2D at 0x7fbbdfa19e10>]"
      ]
     },
     "execution_count": 109,
     "metadata": {},
     "output_type": "execute_result"
    },
    {
     "data": {
      "image/png": "[encoded data removed]",
      "text/plain": [
       "<Figure size 1152x576 with 1 Axes>"
      ]
     },
     "metadata": {
      "needs_background": "light"
     },
     "output_type": "display_data"
    }
   ],
   "source": [
    "plt.figure(figsize=(16, 8))\n",
    "plt.plot(loss_val[3000:])"
   ]
  }
 ],
 "metadata": {
  "kernelspec": {
   "display_name": "Python 3",
   "language": "python",
   "name": "python3"
  },
  "language_info": {
   "codemirror_mode": {
    "name": "ipython",
    "version": 3
   },
   "file_extension": ".py",
   "mimetype": "text/x-python",
   "name": "python",
   "nbconvert_exporter": "python",
   "pygments_lexer": "ipython3",
   "version": "3.7.4"
  }
 },
 "nbformat": 4,
 "nbformat_minor": 2
}
